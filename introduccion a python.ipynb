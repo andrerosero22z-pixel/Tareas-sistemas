{
 "cells": [
  {
   "cell_type": "markdown",
   "id": "048a235e-f4f2-4447-81c0-efce81a1bc27",
   "metadata": {},
   "source": [
    "# Introducción a los sistemas de información\n",
    "Nombre: Andre Alexis Rosero Acero\n",
    "\n",
    "Fecha: 2024-10-07"
   ]
  },
  {
   "cell_type": "markdown",
   "id": "f71f2f96-df47-4879-8502-377d382abe38",
   "metadata": {},
   "source": [
    "# 📃Clase 1 – Introducción a Python"
   ]
  },
  {
   "cell_type": "markdown",
   "id": "6cfc433d-cc7b-45f0-96d7-dea759d42c4d",
   "metadata": {},
   "source": [
    "# list, set, tuple, dict\n",
    "\n",
    "- Son estructuras de datos que guardan varios elementos"
   ]
  },
  {
   "cell_type": "code",
   "execution_count": 3,
   "id": "abb7f5bc-941d-46c7-952f-52399f14eca6",
   "metadata": {},
   "outputs": [
    {
     "name": "stdout",
     "output_type": "stream",
     "text": [
      "manzana\n",
      "Jonathan\n"
     ]
    }
   ],
   "source": [
    "# Lista (list) -> ordenada y modificable\n",
    "frutas = [\"manzana\", \"pera\", \"uva\"]\n",
    "print(frutas[0])  # acceso por índice\n",
    "frutas.append(\"naranja\")  # agregar\n",
    "\n",
    "# Conjunto (set) -> sin orden y sin elementos repetidos\n",
    "colores = {\"rojo\", \"azul\", \"verde\"}\n",
    "colores.add(\"amarillo\")\n",
    "\n",
    "# Tupla (tuple) -> ordenada, pero no modificable\n",
    "coordenadas = (10, 20)\n",
    "\n",
    "# Diccionario (dict) -> clave : valor\n",
    "persona = {\"nombre\": \"Jonathan\", \"edad\": 19}\n",
    "print(persona[\"nombre\"])\n"
   ]
  },
  {
   "cell_type": "markdown",
   "id": "ef08282c-ead9-4118-aa8d-6af78d3aa72e",
   "metadata": {},
   "source": [
    "## if, elif, else\n",
    "\n",
    "Sirven para tomar decisiones en el programa según condiciones."
   ]
  },
  {
   "cell_type": "code",
   "execution_count": 1,
   "id": "c79e402e-69db-4bb8-860b-f3a29956367f",
   "metadata": {},
   "outputs": [
    {
     "name": "stdout",
     "output_type": "stream",
     "text": [
      "x es mayor que 5\n"
     ]
    }
   ],
   "source": [
    "# Ejemplo básico\n",
    "x = 10\n",
    "if x > 5:\n",
    "    print(\"x es mayor que 5\")\n",
    "elif x == 5:\n",
    "    print(\"x es igual a 5\")\n",
    "else:\n",
    "    print(\"x es menor que 5\")\n"
   ]
  },
  {
   "cell_type": "markdown",
   "id": "190b00cb-980c-4a48-a77e-903455678ade",
   "metadata": {},
   "source": [
    "## FOR \n",
    "- para repeti algo un numero de veces determinado el **for** sirve para recorrer una secuencia "
   ]
  },
  {
   "cell_type": "code",
   "execution_count": 11,
   "id": "601cd5dd-189a-428b-975e-1c0807fe54c1",
   "metadata": {},
   "outputs": [
    {
     "name": "stdout",
     "output_type": "stream",
     "text": [
      "hola 0\n",
      "hola 1\n",
      "hola 2\n",
      "hola 3\n",
      "hola 4\n"
     ]
    }
   ],
   "source": [
    "for i in range(5): #para cada elemento en esta lista / secuencia, haz esto\n",
    "    print('hola',i)"
   ]
  },
  {
   "cell_type": "markdown",
   "id": "251ae482-b0ad-4384-9217-85e53bc5fb65",
   "metadata": {},
   "source": [
    "## while \n",
    "- se dice para repetir mientras se cumpla una condicion "
   ]
  },
  {
   "cell_type": "code",
   "execution_count": 14,
   "id": "99075eb8-2c44-4e19-8b26-fb51bc492444",
   "metadata": {},
   "outputs": [
    {
     "name": "stdout",
     "output_type": "stream",
     "text": [
      "x vale  0\n",
      "x vale  1\n",
      "x vale  2\n",
      "x vale  3\n",
      "x vale  4\n"
     ]
    }
   ],
   "source": [
    "x = 0\n",
    "while x < 5:\n",
    "    print(\"x vale \",x)\n",
    "    x += 1 #el while repite mientras la condicion sea verdadera "
   ]
  },
  {
   "cell_type": "markdown",
   "id": "515d17a0-6e20-426d-b2bd-aab10e017ab0",
   "metadata": {},
   "source": [
    "# in \n",
    "significa dentro de o perteneca a "
   ]
  },
  {
   "cell_type": "code",
   "execution_count": 17,
   "id": "943b61e2-f5bf-4008-a916-18035488227f",
   "metadata": {},
   "outputs": [
    {
     "name": "stdout",
     "output_type": "stream",
     "text": [
      "P\n",
      "y\n",
      "t\n",
      "h\n",
      "o\n",
      "n\n"
     ]
    }
   ],
   "source": [
    "for letra in \"Python\":\n",
    "    print(letra)"
   ]
  },
  {
   "cell_type": "markdown",
   "id": "72141de2-a33b-429b-82bc-41b55aace53f",
   "metadata": {},
   "source": [
    "for variable in secuencia:\n",
    "    # bloque de código que se repite\n",
    "variable: toma el valor de cada elemento en la secuencia, uno por uno.\n",
    "\n",
    "secuencia: puede ser una lista, un texto, un rango, etc.\n",
    "\n",
    "Todo lo que esté indentado (con espacio o tabulación) debajo del for se repite."
   ]
  },
  {
   "cell_type": "code",
   "execution_count": 18,
   "id": "b39fae1a-16b4-450b-8be8-0f594baf0511",
   "metadata": {},
   "outputs": [
    {
     "name": "stdout",
     "output_type": "stream",
     "text": [
      "manzana\n",
      "pera\n",
      "naranja\n"
     ]
    }
   ],
   "source": [
    "frutas = [\"manzana\", \"pera\", \"naranja\"]\n",
    "\n",
    "for fruta in frutas:\n",
    "    print(fruta)\n"
   ]
  },
  {
   "cell_type": "code",
   "execution_count": 19,
   "id": "e15d3681-428b-4d4d-8b10-7f1989441569",
   "metadata": {},
   "outputs": [
    {
     "name": "stdout",
     "output_type": "stream",
     "text": [
      "La palabra 'sol' tiene 3 letras.\n",
      "La palabra 'luna' tiene 4 letras.\n",
      "La palabra 'estrella' tiene 8 letras.\n"
     ]
    }
   ],
   "source": [
    "palabras = [\"sol\", \"luna\", \"estrella\"]\n",
    "\n",
    "for palabra in palabras:\n",
    "    print(f\"La palabra '{palabra}' tiene {len(palabra)} letras.\")\n"
   ]
  },
  {
   "cell_type": "code",
   "execution_count": null,
   "id": "f6938463-fe0c-47c0-aee6-9f65e195c24a",
   "metadata": {},
   "outputs": [],
   "source": []
  }
 ],
 "metadata": {
  "kernelspec": {
   "display_name": "Python 3 (ipykernel)",
   "language": "python",
   "name": "python3"
  },
  "language_info": {
   "codemirror_mode": {
    "name": "ipython",
    "version": 3
   },
   "file_extension": ".py",
   "mimetype": "text/x-python",
   "name": "python",
   "nbconvert_exporter": "python",
   "pygments_lexer": "ipython3",
   "version": "3.14.0"
  }
 },
 "nbformat": 4,
 "nbformat_minor": 5
}
